{
 "cells": [
  {
   "cell_type": "code",
   "outputs": [],
   "source": [
    "from sknetwork.ranking import PageRank\n",
    "import pickle\n",
    "from causallearn.search.FCMBased import lingam\n",
    "from collections import defaultdict\n",
    "import pandas as pd\n",
    "import time\n",
    "import numpy as np\n",
    "from sklearn.preprocessing import normalize"
   ],
   "metadata": {
    "collapsed": true,
    "ExecuteTime": {
     "end_time": "2024-12-13T09:47:14.319629Z",
     "start_time": "2024-12-13T09:47:14.316679Z"
    }
   },
   "id": "initial_id",
   "execution_count": 8
  },
  {
   "cell_type": "code",
   "outputs": [],
   "source": [
    "hts_res_dict = {}\n",
    "for experiment in range(0,4):\n",
    "    with open(f\"../data/fault_data/hts_fault_{experiment}.pkl\", \"rb\") as f:\n",
    "        s_list, X = pickle.load(f)\n",
    "    ind = 0\n",
    "    mapping = {}\n",
    "    for service in s_list:\n",
    "        x = service.split('-')\n",
    "        x = x[:-2]\n",
    "        x = '-'.join(x)\n",
    "        mapping[ind] = x\n",
    "        ind+=1\n",
    "    # Start CausalRCA\n",
    "    start_time = time.time()\n",
    "    X = np.diff(X,axis=0)\n",
    "    X = normalize(X,axis=0)\n",
    "    model = lingam.DirectLiNGAM()\n",
    "    model.fit(X)\n",
    "    adj = model.adjacency_matrix_.T \n",
    "    pagerank = PageRank()\n",
    "    scores = pagerank.fit_predict(adj.T)\n",
    "    combined_pagerank = defaultdict(float)\n",
    "    for service_id in range(len(scores)):\n",
    "        combined_pagerank[mapping[service_id]] += scores[service_id]\n",
    "    \n",
    "    combined_pagerank_df = pd.DataFrame(\n",
    "                list(combined_pagerank.items()), columns=[\"Service Type\", \"Combined Frequency\"]\n",
    "    )\n",
    "    end_time = time.time()\n",
    "    ####\n",
    "    \n",
    "    t_elapsed = end_time - start_time\n",
    "    sorted_pr = combined_pagerank_df.sort_values(by=\"Combined Frequency\", ascending=False)\n",
    "    top_5 = list(sorted_pr.head(5)[\"Service Type\"])\n",
    "    hts_res_dict[experiment] = (sorted_pr, t_elapsed)"
   ],
   "metadata": {
    "collapsed": false,
    "ExecuteTime": {
     "end_time": "2024-12-13T09:48:31.950062Z",
     "start_time": "2024-12-13T09:47:32.399716Z"
    }
   },
   "id": "be734e93fe973aac",
   "execution_count": 10
  },
  {
   "cell_type": "markdown",
   "source": [],
   "metadata": {
    "collapsed": false
   },
   "id": "adff6e88824f0095"
  },
  {
   "cell_type": "code",
   "outputs": [],
   "source": [
    "cp_res_dict = {}\n",
    "for experiment in range(0,4):\n",
    "    with open(f\"../data/fault_data/cp_fault_{experiment}.pkl\", \"rb\") as f:\n",
    "        s_list, X = pickle.load(f)\n",
    "    ind = 0\n",
    "    mapping = {}\n",
    "    for service in s_list:\n",
    "        x = service.split('-')\n",
    "        x = x[:-2]\n",
    "        x = '-'.join(x)\n",
    "        mapping[ind] = x\n",
    "        ind+=1\n",
    "    # Start CausalRCA\n",
    "    start_time = time.time()\n",
    "    X = np.diff(X,axis=0)\n",
    "    X = normalize(X,axis=0)\n",
    "    model = lingam.DirectLiNGAM()\n",
    "    model.fit(X)\n",
    "    adj = model.adjacency_matrix_.T \n",
    "    pagerank = PageRank()\n",
    "    scores = pagerank.fit_predict(adj.T)\n",
    "    combined_pagerank = defaultdict(float)\n",
    "    for service_id in range(len(scores)):\n",
    "        combined_pagerank[mapping[service_id]] += scores[service_id]\n",
    "    \n",
    "    combined_pagerank_df = pd.DataFrame(\n",
    "                list(combined_pagerank.items()), columns=[\"Service Type\", \"Combined Frequency\"]\n",
    "    )\n",
    "    end_time = time.time()\n",
    "    ####\n",
    "    \n",
    "    t_elapsed = end_time - start_time\n",
    "    sorted_pr = combined_pagerank_df.sort_values(by=\"Combined Frequency\", ascending=False)\n",
    "    top_5 = list(sorted_pr.head(5)[\"Service Type\"])\n",
    "    cp_res_dict[experiment] = (sorted_pr, t_elapsed)"
   ],
   "metadata": {
    "collapsed": false,
    "ExecuteTime": {
     "end_time": "2024-12-13T09:49:32.020555Z",
     "start_time": "2024-12-13T09:48:31.951065Z"
    }
   },
   "id": "9a994dd855e7de0b",
   "execution_count": 11
  },
  {
   "cell_type": "code",
   "outputs": [],
   "source": [],
   "metadata": {
    "collapsed": false
   },
   "id": "c2e10553ade3d8da"
  }
 ],
 "metadata": {
  "kernelspec": {
   "display_name": "Python 3",
   "language": "python",
   "name": "python3"
  },
  "language_info": {
   "codemirror_mode": {
    "name": "ipython",
    "version": 2
   },
   "file_extension": ".py",
   "mimetype": "text/x-python",
   "name": "python",
   "nbconvert_exporter": "python",
   "pygments_lexer": "ipython2",
   "version": "2.7.6"
  }
 },
 "nbformat": 4,
 "nbformat_minor": 5
}
