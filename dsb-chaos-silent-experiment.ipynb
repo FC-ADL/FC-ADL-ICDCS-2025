{
 "cells": [
  {
   "cell_type": "code",
   "execution_count": 3,
   "id": "9fae063080edfdc7",
   "metadata": {
    "collapsed": false,
    "ExecuteTime": {
     "end_time": "2024-08-08T08:33:17.848722Z",
     "start_time": "2024-08-08T08:33:17.844722Z"
    }
   },
   "outputs": [],
   "source": [
    "from sklearn.preprocessing import normalize\n",
    "import json\n",
    "import msacorrnet as mcn\n",
    "from copy import deepcopy\n",
    "import numpy as np\n",
    "import matplotlib.pyplot as plt\n",
    "from collections import defaultdict\n",
    "import re\n",
    "from scipy.spatial import distance\n",
    "import random\n",
    "from sklearn.metrics import confusion_matrix\n",
    "from scipy.optimize import linear_sum_assignment\n",
    "from sklearn.metrics import f1_score\n",
    "from sklearn.cluster import AgglomerativeClustering\n",
    "from tqdm import trange"
   ]
  },
  {
   "cell_type": "code",
   "outputs": [],
   "source": [
    "time = int(7200)\n",
    "\n",
    "file = \"data/hts-fault-2hr/cpu_usage.json\"\n",
    "\n",
    "f = open(file)\n",
    "\n",
    "data = json.load(f)\n",
    "f.close()\n",
    "\n",
    "f_dict = {}\n",
    "data = data['data']['result']\n",
    "for ent in range(len(data)):\n",
    "    if data[ent]['metric']['id'] != \"/\":\n",
    "        f_dict[data[ent]['metric']['pod']] = np.zeros((len(data[ent]['values']), 2))\n",
    "        f_dict[data[ent]['metric']['pod']][:, 0] = [float(x[0]) for x in data[ent]['values']]\n",
    "        f_dict[data[ent]['metric']['pod']][:, 1] = [float(x[1]) for x in data[ent]['values']]\n",
    "\n",
    "for service in f_dict:\n",
    "    if data[0][\"metric\"][\"__name__\"] == \"container_memory_usage_bytes\":\n",
    "        pass\n",
    "    else:\n",
    "        temp = [0]\n",
    "        for i in range(1, np.shape(f_dict[service])[0]):\n",
    "            temp.append(f_dict[service][i, 1] - f_dict[service][i - 1, 1])\n",
    "        f_dict[service][:, 1] = deepcopy(temp)\n",
    "        f_dict[service][:, 1] = mcn.sub_sample_zeros(f_dict[service][:, 1])\n",
    "\n",
    "max_len = 0\n",
    "for i in f_dict:\n",
    "    if len(f_dict[i]) > max_len:\n",
    "        max_len = len(f_dict[i])\n",
    "\n",
    "aligned_data = mcn.align_data(f_dict, 5, time)\n",
    "service_list = []\n",
    "for s in aligned_data:\n",
    "    service_list.append(s)\n",
    "s_list = []\n",
    "for s in aligned_data:\n",
    "    s_list.append(s)\n",
    "X = np.zeros((int((time / 5)), len(s_list)))\n",
    "ind = 0\n",
    "for s in service_list:\n",
    "    X[:, ind] = aligned_data[s][:, 1]\n",
    "    ind += 1\n",
    "Xc = deepcopy(X)\n",
    "\n",
    "import fnmatch\n",
    "\n",
    "misc_ms = [\"nginx*\", \"jaeger*\"]\n",
    "for ms in misc_ms:\n",
    "    matched_indices = [index for index, string in enumerate(service_list) if fnmatch.fnmatchcase(string, ms)]\n",
    "    for index in sorted(matched_indices, reverse=True):\n",
    "        s_list.pop(index)\n",
    "        service_list.pop(index)\n",
    "        X = np.delete(X, index, axis=1)\n",
    "\n",
    "# Set fault ground truth\n",
    "ground_truth = np.zeros((X.shape[0] - 361, 1))\n",
    "ground_truth[:360, 0] = 1"
   ],
   "metadata": {
    "collapsed": false,
    "ExecuteTime": {
     "end_time": "2024-08-08T08:33:19.327985Z",
     "start_time": "2024-08-08T08:33:17.849722Z"
    }
   },
   "id": "40cf4d398818d87e",
   "execution_count": 4
  },
  {
   "cell_type": "code",
   "outputs": [],
   "source": [
    "matched_indices = defaultdict(list)\n",
    "pattern = re.compile(r'([a-zA-Z-]+)-[a-zA-Z0-9]+-[a-zA-Z0-9]+$')\n",
    "for index, variable in enumerate(s_list):\n",
    "    match = pattern.match(variable)\n",
    "    if match:\n",
    "        key = variable[:variable.rfind('-')]\n",
    "        matched_indices[key].append(index)"
   ],
   "metadata": {
    "collapsed": false,
    "ExecuteTime": {
     "end_time": "2024-08-08T08:33:19.343985Z",
     "start_time": "2024-08-08T08:33:19.328985Z"
    }
   },
   "id": "561c845c9655f19a",
   "execution_count": 5
  },
  {
   "cell_type": "code",
   "outputs": [],
   "source": [
    "# Hop proximity to faulty service (home-timeline-service)\n",
    "zero_hop = ['home-timeline-service-65b4dd89b5']\n",
    "one_hop = ['social-graph-service-5c666fc6c5', 'compose-post-service-67b44dc876', 'post-storage-service-6b6b494569', 'home-timeline-redis-5774f4dfdc']\n",
    "two_hop = ['post-storage-memcached-5c48bc889d','user-timeline-service-5b876bb6df','text-service-74b97bd879','user-service-655ff546f9','media-service-7ddd74bccb','unique-id-service-7c78b5cc7b','social-graph-redis-7887fc84fb']\n",
    "three_hop = ['post-storage-mongodb-7bf4f76c65','media-memcached-7dfb74bc7d','media-frontend-77cd978649','user-memcached-7f646b6586','social-graph-mongodb-bc8595d6f','user-timeline-redis-6b775dbddc', 'url-shorten-service-7cdf5f9c88']\n",
    "four_hop = ['user-mention-service-67b9c5f949','media-mongodb-785b655677','user-timeline-mongodb-6cd9d5b79d','url-shorten-memcached-dcf8457d','user-mongodb-7f696dfb48']\n",
    "five_hop = ['url-shorten-mongodb-5cf6bd4d78']\n",
    "\n",
    "prox_dict = {0: zero_hop, 1: one_hop, 2: two_hop, 3: three_hop, 4: four_hop, 5: five_hop}"
   ],
   "metadata": {
    "collapsed": false,
    "ExecuteTime": {
     "end_time": "2024-08-08T08:33:19.359986Z",
     "start_time": "2024-08-08T08:33:19.344986Z"
    }
   },
   "id": "c11e5b6ae71fd959",
   "execution_count": 6
  },
  {
   "cell_type": "code",
   "outputs": [
    {
     "name": "stderr",
     "output_type": "stream",
     "text": [
      "100%|██████████| 50/50 [09:17<00:00, 11.15s/it]\n"
     ]
    }
   ],
   "source": [
    "matched_indices = defaultdict(list)\n",
    "for index, variable in enumerate(s_list):\n",
    "    match = pattern.match(variable)\n",
    "    if match:\n",
    "        key = variable[:variable.rfind('-')]\n",
    "        matched_indices[key].append(index)\n",
    "            \n",
    "f1_scores = {}\n",
    "np.seterr(divide='ignore', invalid='ignore')\n",
    "for n in trange(0,50):\n",
    "    Xc = deepcopy(X)\n",
    "    Xdiff = np.diff(Xc[:, :], axis=0)\n",
    "    Xdiff = normalize(Xdiff, axis=0)\n",
    "    \n",
    "    win = 360\n",
    "    step = 1\n",
    "    r_dict = mcn.rolling_window(Xdiff[:, :], win, \"tapered\", step, 0.3, False, \"pearsons\")\n",
    "    \n",
    "    r_pos = {}\n",
    "    for corr in r_dict:\n",
    "        r_pos[corr] = deepcopy(r_dict[corr])\n",
    "        r_pos[corr] = r_pos[corr] + 1\n",
    "    \n",
    "    spectra = mcn.all_spectra(r_pos, True)\n",
    "    all_es = spectra.T\n",
    "    all_es = all_es[:, :-1]\n",
    "    scaling = \"LMDS\"\n",
    "    if scaling == \"LMDS\":\n",
    "        landmarks = random.sample(range(0, all_es.shape[0], 1), int(len(all_es) / 4))\n",
    "        dist = distance.cdist(all_es[landmarks, :], all_es, 'euclidean')\n",
    "        coords = mcn.LMDS(dist, landmarks, 2)\n",
    "    \n",
    "    clustering = AgglomerativeClustering(n_clusters=2, linkage=\"average\").fit(coords)\n",
    "    labels = clustering.labels_\n",
    "    conf_matrix = confusion_matrix(ground_truth, labels)\n",
    "    row_ind, col_ind = linear_sum_assignment(-conf_matrix)\n",
    "    labels_adjusted = np.zeros_like(labels)\n",
    "    for i, j in zip(row_ind, col_ind):\n",
    "        labels_adjusted[labels == j] = i\n",
    "    \n",
    "    f1 = f1_score(ground_truth, labels_adjusted)\n",
    "    if n == 0:\n",
    "        f1_scores[1] = [f1]\n",
    "    else:\n",
    "        f1_scores[1].append(f1)\n",
    "    rm_inds = []\n",
    "    prox_dict_cp = deepcopy(prox_dict)\n",
    "    for prx in prox_dict_cp:\n",
    "        for _ in range(len(prox_dict_cp[prx])):\n",
    "            ms = random.choice(prox_dict_cp[prx])\n",
    "            prox_dict_cp[prx].remove(ms)\n",
    "            rm_inds.extend(matched_indices[ms])\n",
    "            # matched_indices.pop(ms)\n",
    "\n",
    "            X_reduced = np.delete(Xc, rm_inds, axis=1)\n",
    "            # if 2 or fewer variables we can't project to 2D space\n",
    "            if X_reduced.shape[1] <= 1:\n",
    "                break\n",
    "                \n",
    "            Xdiff = np.diff(X_reduced[:, :], axis=0)\n",
    "            Xdiff = normalize(Xdiff, axis=0)\n",
    "\n",
    "            win = 360\n",
    "            step = 1\n",
    "            r_dict = mcn.rolling_window(Xdiff[:, :], win, \"tapered\", step, 0.3, False, \"pearsons\")\n",
    "\n",
    "            r_pos = {}\n",
    "            for corr in r_dict:\n",
    "                r_pos[corr] = deepcopy(r_dict[corr])\n",
    "                r_pos[corr] = r_pos[corr] + 1\n",
    "\n",
    "            spectra = mcn.all_spectra(r_pos, True)\n",
    "            all_es = spectra.T\n",
    "            all_es = all_es[:, :-1]\n",
    "\n",
    "            landmarks = random.sample(range(0, all_es.shape[0], 1), int(len(all_es) / 4))\n",
    "            dist = distance.cdist(all_es[landmarks, :], all_es, 'euclidean')\n",
    "            try:\n",
    "                coords = mcn.LMDS(dist, landmarks, 2)\n",
    "            except:\n",
    "                break\n",
    "\n",
    "            clustering = AgglomerativeClustering(n_clusters=2, linkage=\"average\").fit(coords)\n",
    "            labels = clustering.labels_\n",
    "            conf_matrix = confusion_matrix(ground_truth, labels)\n",
    "            row_ind, col_ind = linear_sum_assignment(-conf_matrix)\n",
    "            labels_adjusted = np.zeros_like(labels)\n",
    "            for i, j in zip(row_ind, col_ind):\n",
    "                labels_adjusted[labels == j] = i\n",
    "\n",
    "            f1 = f1_score(ground_truth, labels_adjusted)\n",
    "            if X_reduced.shape[1]/X.shape[1] in f1_scores:\n",
    "                f1_scores[X_reduced.shape[1]/X.shape[1]].append(f1)\n",
    "            else:\n",
    "                f1_scores[X_reduced.shape[1]/X.shape[1]] = [f1]"
   ],
   "metadata": {
    "collapsed": false,
    "ExecuteTime": {
     "end_time": "2024-08-08T08:44:52.913375Z",
     "start_time": "2024-08-08T08:35:35.499724Z"
    }
   },
   "id": "1aed47a6eac1f75b",
   "execution_count": 8
  },
  {
   "cell_type": "code",
   "outputs": [
    {
     "data": {
      "text/plain": "<Figure size 640x480 with 1 Axes>",
      "image/png": "[encoded data removed]"
     },
     "metadata": {},
     "output_type": "display_data"
    }
   ],
   "source": [
    "n_ms = []\n",
    "f1_means = []\n",
    "f1_stds = []\n",
    "for x_val, y_vals in f1_scores.items():\n",
    "    n_ms.append(x_val*100)\n",
    "    f1_means.append(np.mean(y_vals))\n",
    "    f1_stds.append(np.std(y_vals))\n",
    "    \n",
    "plt.errorbar(n_ms, f1_means, yerr=f1_stds, fmt='o', capsize=5)\n",
    "\n",
    "plt.xlabel('Percentage of Original MS')\n",
    "plt.ylabel('F1-Score')\n",
    "plt.title('F1-Scores for Targeted Missing Data')\n",
    "plt.ylim(0,1)\n",
    "plt.show()"
   ],
   "metadata": {
    "collapsed": false,
    "ExecuteTime": {
     "end_time": "2024-08-08T08:44:56.007220Z",
     "start_time": "2024-08-08T08:44:55.350357Z"
    }
   },
   "id": "24f9a517af9b9e91",
   "execution_count": 9
  },
  {
   "cell_type": "code",
   "outputs": [
    {
     "name": "stderr",
     "output_type": "stream",
     "text": [
      "100%|██████████| 50/50 [09:59<00:00, 11.98s/it]\n"
     ]
    }
   ],
   "source": [
    "for i in trange(0,50):\n",
    "    matched_indices = defaultdict(list)\n",
    "    for index, variable in enumerate(s_list):\n",
    "        match = pattern.match(variable)\n",
    "        if match:\n",
    "            key = variable[:variable.rfind('-')]\n",
    "            matched_indices[key].append(index)\n",
    "    rm_inds = []\n",
    "    while len(matched_indices) > 0:\n",
    "        ms_ind = random.randint(0, len(matched_indices)-1)\n",
    "        rm_inds.extend(matched_indices[list(matched_indices.keys())[ms_ind]])\n",
    "        del matched_indices[list(matched_indices.keys())[ms_ind]]\n",
    "        X_reduced = np.delete(X, rm_inds, axis=1)\n",
    "        # if 2 or less variables we can't project to 2D\n",
    "        if X_reduced.shape[1] <= 1:\n",
    "            break\n",
    "        Xc = X_reduced\n",
    "        Xdiff = np.diff(Xc[:, :], axis=0)\n",
    "        Xdiff = normalize(Xdiff, axis=0)\n",
    "    \n",
    "        win = 360\n",
    "        step = 1\n",
    "        r_dict = mcn.rolling_window(Xdiff[:, :], win, \"tapered\", step, 0.3, False, \"pearsons\")\n",
    "    \n",
    "        r_pos = {}\n",
    "        for corr in r_dict:\n",
    "            r_pos[corr] = deepcopy(r_dict[corr])\n",
    "            r_pos[corr] = r_pos[corr] + 1\n",
    "    \n",
    "        spectra = mcn.all_spectra(r_pos, True)\n",
    "        all_es = spectra.T\n",
    "        all_es = all_es[:, :-1]\n",
    "    \n",
    "        landmarks = random.sample(range(0, all_es.shape[0], 1), int(len(all_es) / 4))\n",
    "        dist = distance.cdist(all_es[landmarks, :], all_es, 'euclidean')\n",
    "        try:\n",
    "            coords = mcn.LMDS(dist, landmarks, 2)\n",
    "        except:\n",
    "            f1_scores[X_reduced.shape[1]/X.shape[1]] = [0]\n",
    "            break\n",
    "    \n",
    "        clustering = AgglomerativeClustering(n_clusters=2).fit(coords)\n",
    "        labels = clustering.labels_\n",
    "        conf_matrix = confusion_matrix(ground_truth, labels)\n",
    "        row_ind, col_ind = linear_sum_assignment(-conf_matrix)\n",
    "        labels_adjusted = np.zeros_like(labels)\n",
    "        for i, j in zip(row_ind, col_ind):\n",
    "            labels_adjusted[labels == j] = i\n",
    "        \n",
    "        f1 = f1_score(ground_truth, labels_adjusted)\n",
    "        if X_reduced.shape[1]/X.shape[1] in f1_scores:\n",
    "            f1_scores[X_reduced.shape[1]/X.shape[1]].append(f1)\n",
    "        else:\n",
    "            f1_scores[X_reduced.shape[1]/X.shape[1]] = [f1]"
   ],
   "metadata": {
    "collapsed": false,
    "ExecuteTime": {
     "end_time": "2024-08-08T09:00:20.179617Z",
     "start_time": "2024-08-08T08:50:21.130952Z"
    }
   },
   "id": "5cf4db64126c0261",
   "execution_count": 10
  },
  {
   "cell_type": "code",
   "outputs": [
    {
     "data": {
      "text/plain": "<Figure size 640x480 with 1 Axes>",
      "image/png": "[encoded data removed]"
     },
     "metadata": {},
     "output_type": "display_data"
    }
   ],
   "source": [
    "n_ms = []\n",
    "f1_means = []\n",
    "f1_stds = []\n",
    "for x_val, y_vals in f1_scores.items():\n",
    "    n_ms.append(x_val*100)\n",
    "    f1_means.append(np.mean(y_vals))\n",
    "    f1_stds.append(np.std(y_vals))\n",
    "    \n",
    "plt.errorbar(n_ms, f1_means, yerr=f1_stds, fmt='o', capsize=5)\n",
    "\n",
    "plt.xlabel('Percentage of Original MS')\n",
    "plt.ylabel('F1-Score')\n",
    "plt.title('F1-Scores for Random Missing Data')\n",
    "plt.ylim(0,1)\n",
    "plt.show()"
   ],
   "metadata": {
    "collapsed": false,
    "ExecuteTime": {
     "end_time": "2024-08-08T09:06:34.581111Z",
     "start_time": "2024-08-08T09:06:34.440110Z"
    }
   },
   "id": "33655f701810d2a",
   "execution_count": 11
  }
 ],
 "metadata": {
  "kernelspec": {
   "display_name": "Python 3",
   "language": "python",
   "name": "python3"
  },
  "language_info": {
   "codemirror_mode": {
    "name": "ipython",
    "version": 2
   },
   "file_extension": ".py",
   "mimetype": "text/x-python",
   "name": "python",
   "nbconvert_exporter": "python",
   "pygments_lexer": "ipython2",
   "version": "2.7.6"
  }
 },
 "nbformat": 4,
 "nbformat_minor": 5
}
